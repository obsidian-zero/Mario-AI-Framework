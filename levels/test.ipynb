with open(r'levels\original\lvl-1.txt') as f:
    content = f.read()
content.count('!') + content.count('C') + content.count('o') + content.count('2') + content.count('Q')
